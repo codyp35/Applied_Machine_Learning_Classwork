{
 "cells": [
  {
   "cell_type": "markdown",
   "metadata": {},
   "source": [
    "# Homework 1 \n",
    "## Importing and Cleaning Data\n",
    "### Purpose:\n",
    "The purpose of this notebook is to practice reading in data from 3 different sources, clean the data, and visualize it. I attempted to look at 3 very different types of datasets in order to be able to ask questions about them in very different ways so that I could use a range of visualization and cleaning techniques."
   ]
  },
  {
   "cell_type": "code",
   "execution_count": 2,
   "metadata": {},
   "outputs": [],
   "source": [
    "import pandas as pd\n",
    "import numpy as np\n",
    "import matplotlib.pyplot as plt\n",
    "import seaborn as sns\n",
    "#Stuff to read in the json\n",
    "import json\n",
    "import requests\n",
    "\n",
    "#Silencing deprication warnings\n",
    "import warnings\n",
    "warnings.filterwarnings(\"ignore\")"
   ]
  },
  {
   "cell_type": "markdown",
   "metadata": {},
   "source": [
    "# Bikeshare Data\n",
    "The first dataset I am going to look at is going to be metro bikeshare data."
   ]
  },
  {
   "cell_type": "code",
   "execution_count": 3,
   "metadata": {},
   "outputs": [],
   "source": [
    "#Import data\n",
    "bike_data = pd.read_csv(r\"C:\\Users\\nelso\\OneDrive\\Machine_Learning\\Homeworks\\HW1\\metro-bike-share-trip-data.csv\")"
   ]
  },
  {
   "cell_type": "markdown",
   "metadata": {},
   "source": [
    "## Cleaning the Data\n",
    "First we are going to clean the data so that it is ready to visualize. I am going to take a quick peek at the data and make sure we don't have any missing values and that none of the variables look funky!"
   ]
  },
  {
   "cell_type": "code",
   "execution_count": 4,
   "metadata": {},
   "outputs": [
    {
     "name": "stdout",
     "output_type": "stream",
     "text": [
      "            Trip ID       Duration  Starting Station ID  \\\n",
      "count  1.324270e+05  132427.000000        132408.000000   \n",
      "mean   1.153001e+07    1555.301562          3043.020754   \n",
      "std    6.369462e+06    5814.241813            37.742021   \n",
      "min    1.912818e+06      60.000000          3000.000000   \n",
      "25%    5.060814e+06     360.000000          3024.000000   \n",
      "50%    1.043827e+07     600.000000          3040.000000   \n",
      "75%    1.720633e+07    1080.000000          3063.000000   \n",
      "max    2.379422e+07   86400.000000          4108.000000   \n",
      "\n",
      "       Starting Station Latitude  Starting Station Longitude  \\\n",
      "count              132379.000000               132379.000000   \n",
      "mean                   34.039309                 -118.221534   \n",
      "std                     0.529336                    1.838335   \n",
      "min                     0.000000                 -118.472832   \n",
      "25%                    34.044170                 -118.256980   \n",
      "50%                    34.046822                 -118.250954   \n",
      "75%                    34.050880                 -118.241562   \n",
      "max                    34.064281                    0.000000   \n",
      "\n",
      "       Ending Station ID  Ending Station Latitude  Ending Station Longitude  \\\n",
      "count       132331.00000            131376.000000             131376.000000   \n",
      "mean          3042.38672                34.034614               -118.206642   \n",
      "std             43.08440                 0.650706                  2.259913   \n",
      "min           3000.00000                 0.000000               -118.472832   \n",
      "25%           3022.00000                34.044159               -118.256981   \n",
      "50%           3038.00000                34.046810               -118.250954   \n",
      "75%           3063.00000                34.050480               -118.238810   \n",
      "max           4108.00000                34.064281                  0.000000   \n",
      "\n",
      "             Bike ID  Plan Duration  \n",
      "count  132417.000000  131661.000000  \n",
      "mean     6193.618878      44.821967  \n",
      "std       293.606755      90.411579  \n",
      "min      1349.000000       0.000000  \n",
      "25%      5953.000000       0.000000  \n",
      "50%      6186.000000      30.000000  \n",
      "75%      6434.000000      30.000000  \n",
      "max      6728.000000     365.000000  \n"
     ]
    }
   ],
   "source": [
    "#Take a quick look at the data and see what kind of data we have\n",
    "print(bike_data.describe())"
   ]
  },
  {
   "cell_type": "code",
   "execution_count": 5,
   "metadata": {},
   "outputs": [
    {
     "data": {
      "text/plain": [
       "Starting Lat-Long             33805\n",
       "Ending Lat-Long                1051\n",
       "Ending Station Longitude       1051\n",
       "Ending Station Latitude        1051\n",
       "Plan Duration                   766\n",
       "Ending Station ID                96\n",
       "Starting Station Longitude       48\n",
       "Starting Station Latitude        48\n",
       "Starting Station ID              19\n",
       "Bike ID                          10\n",
       "Passholder Type                   0\n",
       "Trip Route Category               0\n",
       "End Time                          0\n",
       "Start Time                        0\n",
       "Duration                          0\n",
       "Trip ID                           0\n",
       "dtype: int64"
      ]
     },
     "execution_count": 5,
     "metadata": {},
     "output_type": "execute_result"
    }
   ],
   "source": [
    "#Check how many rows in each column are null\n",
    "bike_data.isna().sum().sort_values(ascending=False)"
   ]
  },
  {
   "cell_type": "code",
   "execution_count": 6,
   "metadata": {},
   "outputs": [
    {
     "name": "stdout",
     "output_type": "stream",
     "text": [
      "Number of observations before dropping bad rows: 132427\n",
      "Number of ovservations after dropping bad rows: 130715\n",
      "This is acceptable because we are only losing 0.012927877245576808 of our data\n"
     ]
    }
   ],
   "source": [
    "#Clean up the data getting rid of starting lat and longitude because there are so many missing rows. Also drop the rows that are missing any values\n",
    "start_rows = bike_data.shape[0]\n",
    "print(\"Number of observations before dropping bad rows:\",start_rows)\n",
    "bike_data = bike_data.drop(\"Starting Lat-Long\", axis = 1)\n",
    "bike_data = bike_data.dropna()\n",
    "end_rows = bike_data.shape[0]\n",
    "print (\"Number of ovservations after dropping bad rows:\", end_rows)\n",
    "rows_lost = (start_rows-end_rows)/start_rows\n",
    "print(\"This is acceptable because we are only losing\",rows_lost ,\"of our data\")"
   ]
  },
  {
   "cell_type": "code",
   "execution_count": 7,
   "metadata": {},
   "outputs": [
    {
     "data": {
      "text/plain": [
       "Trip ID                       0\n",
       "Duration                      0\n",
       "Start Time                    0\n",
       "End Time                      0\n",
       "Starting Station ID           0\n",
       "Starting Station Latitude     0\n",
       "Starting Station Longitude    0\n",
       "Ending Station ID             0\n",
       "Ending Station Latitude       0\n",
       "Ending Station Longitude      0\n",
       "Bike ID                       0\n",
       "Plan Duration                 0\n",
       "Trip Route Category           0\n",
       "Passholder Type               0\n",
       "Ending Lat-Long               0\n",
       "dtype: int64"
      ]
     },
     "execution_count": 7,
     "metadata": {},
     "output_type": "execute_result"
    }
   ],
   "source": [
    "#Check to make sure we took care of all of the null values\n",
    "bike_data.isna().sum()"
   ]
  },
  {
   "cell_type": "code",
   "execution_count": 8,
   "metadata": {},
   "outputs": [
    {
     "data": {
      "text/plain": [
       "Trip ID                         int64\n",
       "Duration                        int64\n",
       "Start Time                     object\n",
       "End Time                       object\n",
       "Starting Station ID           float64\n",
       "Starting Station Latitude     float64\n",
       "Starting Station Longitude    float64\n",
       "Ending Station ID             float64\n",
       "Ending Station Latitude       float64\n",
       "Ending Station Longitude      float64\n",
       "Bike ID                       float64\n",
       "Plan Duration                 float64\n",
       "Trip Route Category            object\n",
       "Passholder Type                object\n",
       "Ending Lat-Long                object\n",
       "dtype: object"
      ]
     },
     "execution_count": 8,
     "metadata": {},
     "output_type": "execute_result"
    }
   ],
   "source": [
    "#Explore what the different data types are that we are working with\n",
    "bike_data.dtypes"
   ]
  },
  {
   "cell_type": "markdown",
   "metadata": {},
   "source": [
    "## Exploring the Data\n",
    "Okay now that the data is clean, we are going to explore it a little bit and see if we can find some differences in the groups we are working with. First, lets look at the distribution of the different types of customers."
   ]
  },
  {
   "cell_type": "code",
   "execution_count": 18,
   "metadata": {},
   "outputs": [
    {
     "data": {
      "image/png": "[encoded data removed]",
      "text/plain": [
       "<matplotlib.figure.Figure at 0x1b815e0c160>"
      ]
     },
     "metadata": {},
     "output_type": "display_data"
    }
   ],
   "source": [
    "plot = sns.countplot(bike_data[\"Passholder Type\"])\n",
    "plot.set_title('Distribution of Passenger Types')\n",
    "plt.show()"
   ]
  },
  {
   "cell_type": "markdown",
   "metadata": {},
   "source": [
    "There are clearly a lot more Monthly Pass users than any other group. So now let's look at the differences between the types of trips these customers are taking. "
   ]
  },
  {
   "cell_type": "code",
   "execution_count": 11,
   "metadata": {},
   "outputs": [],
   "source": [
    "#Write a function to plot our graph for us\n",
    "def plot_category(df, user_type):\n",
    "    new = df.loc[df['Passholder Type']== user_type]\n",
    "    new = new['Trip Route Category']\n",
    "    plot = sns.countplot(new)\n",
    "    plot.set_title(user_type)\n",
    "    plt.show()\n",
    "    return"
   ]
  },
  {
   "cell_type": "code",
   "execution_count": 12,
   "metadata": {},
   "outputs": [
    {
     "data": {
      "image/png": "[encoded data removed]",
      "text/plain": [
       "<matplotlib.figure.Figure at 0x2d176a51780>"
      ]
     },
     "metadata": {},
     "output_type": "display_data"
    }
   ],
   "source": [
    "plot_category(bike_data, 'Monthly Pass')"
   ]
  },
  {
   "cell_type": "code",
   "execution_count": 13,
   "metadata": {},
   "outputs": [
    {
     "data": {
      "image/png": "[encoded data removed]",
      "text/plain": [
       "<matplotlib.figure.Figure at 0x2d173365f28>"
      ]
     },
     "metadata": {},
     "output_type": "display_data"
    }
   ],
   "source": [
    "plot_category(bike_data, 'Walk-up')"
   ]
  },
  {
   "cell_type": "code",
   "execution_count": 14,
   "metadata": {},
   "outputs": [
    {
     "data": {
      "image/png": "[encoded data removed]",
      "text/plain": [
       "<matplotlib.figure.Figure at 0x2d1764e1eb8>"
      ]
     },
     "metadata": {},
     "output_type": "display_data"
    }
   ],
   "source": [
    "plot_category(bike_data, 'Flex Pass')"
   ]
  },
  {
   "cell_type": "markdown",
   "metadata": {},
   "source": [
    "This gives us some interesting insights to our different types of customers. The proportion of round trips to one way trips is very different for walk-up customers compared to those that have some kind of pass. This could lead us to some interesting theories. Maybe people with passes use them to bike to work while those without use them more on vacations or for leisure. It definitely gives us some interesting things to consider.\n",
    "\n",
    "One way we may be able to glean some more information is by looking at the duration of the average trip for each type of customer."
   ]
  },
  {
   "cell_type": "code",
   "execution_count": 15,
   "metadata": {},
   "outputs": [
    {
     "data": {
      "text/plain": [
       "Passholder Type\n",
       "Flex Pass       1066.689225\n",
       "Monthly Pass     777.000633\n",
       "Walk-up         2565.802999\n",
       "Name: Duration, dtype: float64"
      ]
     },
     "execution_count": 15,
     "metadata": {},
     "output_type": "execute_result"
    }
   ],
   "source": [
    "bike_data.groupby(by = ['Passholder Type'])['Duration'].mean()"
   ]
  },
  {
   "cell_type": "markdown",
   "metadata": {},
   "source": [
    "Here we find that the walk-up customers are taking much longer rides than the passholders using the bikeshare program. This is another great insight to how these groups are different and shows us how each type of customer utilizes the bikes. "
   ]
  },
  {
   "cell_type": "markdown",
   "metadata": {},
   "source": [
    "# Medical Insurance Data\n",
    "We are going to clean and explore another dataset now from a json format."
   ]
  },
  {
   "cell_type": "code",
   "execution_count": 20,
   "metadata": {},
   "outputs": [],
   "source": [
    "#Read in excel file\n",
    "insurance_data = pd.read_excel(r\"C:\\Users\\nelso\\OneDrive\\Machine_Learning\\Homeworks\\HW1\\Insurance_Data.xlsx\")"
   ]
  },
  {
   "cell_type": "code",
   "execution_count": 21,
   "metadata": {},
   "outputs": [
    {
     "data": {
      "text/html": [
       "<div>\n",
       "<style scoped>\n",
       "    .dataframe tbody tr th:only-of-type {\n",
       "        vertical-align: middle;\n",
       "    }\n",
       "\n",
       "    .dataframe tbody tr th {\n",
       "        vertical-align: top;\n",
       "    }\n",
       "\n",
       "    .dataframe thead th {\n",
       "        text-align: right;\n",
       "    }\n",
       "</style>\n",
       "<table border=\"1\" class=\"dataframe\">\n",
       "  <thead>\n",
       "    <tr style=\"text-align: right;\">\n",
       "      <th></th>\n",
       "      <th>age</th>\n",
       "      <th>sex</th>\n",
       "      <th>bmi</th>\n",
       "      <th>children</th>\n",
       "      <th>smoker</th>\n",
       "      <th>region</th>\n",
       "      <th>charges</th>\n",
       "    </tr>\n",
       "  </thead>\n",
       "  <tbody>\n",
       "    <tr>\n",
       "      <th>0</th>\n",
       "      <td>19</td>\n",
       "      <td>female</td>\n",
       "      <td>27.900</td>\n",
       "      <td>0</td>\n",
       "      <td>yes</td>\n",
       "      <td>southwest</td>\n",
       "      <td>16884.92400</td>\n",
       "    </tr>\n",
       "    <tr>\n",
       "      <th>1</th>\n",
       "      <td>18</td>\n",
       "      <td>male</td>\n",
       "      <td>33.770</td>\n",
       "      <td>1</td>\n",
       "      <td>no</td>\n",
       "      <td>southeast</td>\n",
       "      <td>1725.55230</td>\n",
       "    </tr>\n",
       "    <tr>\n",
       "      <th>2</th>\n",
       "      <td>28</td>\n",
       "      <td>male</td>\n",
       "      <td>33.000</td>\n",
       "      <td>3</td>\n",
       "      <td>no</td>\n",
       "      <td>southeast</td>\n",
       "      <td>4449.46200</td>\n",
       "    </tr>\n",
       "    <tr>\n",
       "      <th>3</th>\n",
       "      <td>33</td>\n",
       "      <td>male</td>\n",
       "      <td>22.705</td>\n",
       "      <td>0</td>\n",
       "      <td>no</td>\n",
       "      <td>northwest</td>\n",
       "      <td>21984.47061</td>\n",
       "    </tr>\n",
       "    <tr>\n",
       "      <th>4</th>\n",
       "      <td>32</td>\n",
       "      <td>male</td>\n",
       "      <td>28.880</td>\n",
       "      <td>0</td>\n",
       "      <td>no</td>\n",
       "      <td>northwest</td>\n",
       "      <td>3866.85520</td>\n",
       "    </tr>\n",
       "  </tbody>\n",
       "</table>\n",
       "</div>"
      ],
      "text/plain": [
       "   age     sex     bmi  children smoker     region      charges\n",
       "0   19  female  27.900         0    yes  southwest  16884.92400\n",
       "1   18    male  33.770         1     no  southeast   1725.55230\n",
       "2   28    male  33.000         3     no  southeast   4449.46200\n",
       "3   33    male  22.705         0     no  northwest  21984.47061\n",
       "4   32    male  28.880         0     no  northwest   3866.85520"
      ]
     },
     "execution_count": 21,
     "metadata": {},
     "output_type": "execute_result"
    }
   ],
   "source": [
    "insurance_data.head()"
   ]
  },
  {
   "cell_type": "code",
   "execution_count": 22,
   "metadata": {},
   "outputs": [
    {
     "data": {
      "text/html": [
       "<div>\n",
       "<style scoped>\n",
       "    .dataframe tbody tr th:only-of-type {\n",
       "        vertical-align: middle;\n",
       "    }\n",
       "\n",
       "    .dataframe tbody tr th {\n",
       "        vertical-align: top;\n",
       "    }\n",
       "\n",
       "    .dataframe thead th {\n",
       "        text-align: right;\n",
       "    }\n",
       "</style>\n",
       "<table border=\"1\" class=\"dataframe\">\n",
       "  <thead>\n",
       "    <tr style=\"text-align: right;\">\n",
       "      <th></th>\n",
       "      <th>age</th>\n",
       "      <th>bmi</th>\n",
       "      <th>children</th>\n",
       "      <th>charges</th>\n",
       "    </tr>\n",
       "  </thead>\n",
       "  <tbody>\n",
       "    <tr>\n",
       "      <th>count</th>\n",
       "      <td>1338.000000</td>\n",
       "      <td>1338.000000</td>\n",
       "      <td>1338.000000</td>\n",
       "      <td>1338.000000</td>\n",
       "    </tr>\n",
       "    <tr>\n",
       "      <th>mean</th>\n",
       "      <td>39.207025</td>\n",
       "      <td>30.663397</td>\n",
       "      <td>1.094918</td>\n",
       "      <td>13270.422265</td>\n",
       "    </tr>\n",
       "    <tr>\n",
       "      <th>std</th>\n",
       "      <td>14.049960</td>\n",
       "      <td>6.098187</td>\n",
       "      <td>1.205493</td>\n",
       "      <td>12110.011237</td>\n",
       "    </tr>\n",
       "    <tr>\n",
       "      <th>min</th>\n",
       "      <td>18.000000</td>\n",
       "      <td>15.960000</td>\n",
       "      <td>0.000000</td>\n",
       "      <td>1121.873900</td>\n",
       "    </tr>\n",
       "    <tr>\n",
       "      <th>25%</th>\n",
       "      <td>27.000000</td>\n",
       "      <td>26.296250</td>\n",
       "      <td>0.000000</td>\n",
       "      <td>4740.287150</td>\n",
       "    </tr>\n",
       "    <tr>\n",
       "      <th>50%</th>\n",
       "      <td>39.000000</td>\n",
       "      <td>30.400000</td>\n",
       "      <td>1.000000</td>\n",
       "      <td>9382.033000</td>\n",
       "    </tr>\n",
       "    <tr>\n",
       "      <th>75%</th>\n",
       "      <td>51.000000</td>\n",
       "      <td>34.693750</td>\n",
       "      <td>2.000000</td>\n",
       "      <td>16639.912515</td>\n",
       "    </tr>\n",
       "    <tr>\n",
       "      <th>max</th>\n",
       "      <td>64.000000</td>\n",
       "      <td>53.130000</td>\n",
       "      <td>5.000000</td>\n",
       "      <td>63770.428010</td>\n",
       "    </tr>\n",
       "  </tbody>\n",
       "</table>\n",
       "</div>"
      ],
      "text/plain": [
       "               age          bmi     children       charges\n",
       "count  1338.000000  1338.000000  1338.000000   1338.000000\n",
       "mean     39.207025    30.663397     1.094918  13270.422265\n",
       "std      14.049960     6.098187     1.205493  12110.011237\n",
       "min      18.000000    15.960000     0.000000   1121.873900\n",
       "25%      27.000000    26.296250     0.000000   4740.287150\n",
       "50%      39.000000    30.400000     1.000000   9382.033000\n",
       "75%      51.000000    34.693750     2.000000  16639.912515\n",
       "max      64.000000    53.130000     5.000000  63770.428010"
      ]
     },
     "execution_count": 22,
     "metadata": {},
     "output_type": "execute_result"
    }
   ],
   "source": [
    "insurance_data.describe()"
   ]
  },
  {
   "cell_type": "markdown",
   "metadata": {},
   "source": [
    "# Data Cleaning\n",
    "So the data looks like it was read in just fine. So now I am going to go ahead and check for any missing values and make a few changes to make the data nicer for us to visualize."
   ]
  },
  {
   "cell_type": "code",
   "execution_count": 23,
   "metadata": {},
   "outputs": [
    {
     "data": {
      "text/plain": [
       "age         0\n",
       "sex         0\n",
       "bmi         0\n",
       "children    0\n",
       "smoker      0\n",
       "region      0\n",
       "charges     0\n",
       "dtype: int64"
      ]
     },
     "execution_count": 23,
     "metadata": {},
     "output_type": "execute_result"
    }
   ],
   "source": [
    "insurance_data.isna().sum()"
   ]
  },
  {
   "cell_type": "markdown",
   "metadata": {},
   "source": [
    "Well that is great news! We have no missing values. The first thing I am going to do is change the sex and smokers variables to binary variables and create a new age variable putting them in bins before we start looking at some basic statistics and visualize our data"
   ]
  },
  {
   "cell_type": "code",
   "execution_count": 24,
   "metadata": {},
   "outputs": [],
   "source": [
    "insurance_data.loc[insurance_data['sex']=='male', 'sex']=1\n",
    "insurance_data.loc[insurance_data['sex']=='female', 'sex']=0\n",
    "insurance_data.loc[insurance_data['smoker']=='yes', 'smoker']=1\n",
    "insurance_data.loc[insurance_data['smoker']=='no', 'smoker']=0\n",
    "insurance_data = insurance_data.rename(index=str, columns={\"sex\": \"male\"})"
   ]
  },
  {
   "cell_type": "code",
   "execution_count": 25,
   "metadata": {},
   "outputs": [
    {
     "data": {
      "text/html": [
       "<div>\n",
       "<style scoped>\n",
       "    .dataframe tbody tr th:only-of-type {\n",
       "        vertical-align: middle;\n",
       "    }\n",
       "\n",
       "    .dataframe tbody tr th {\n",
       "        vertical-align: top;\n",
       "    }\n",
       "\n",
       "    .dataframe thead th {\n",
       "        text-align: right;\n",
       "    }\n",
       "</style>\n",
       "<table border=\"1\" class=\"dataframe\">\n",
       "  <thead>\n",
       "    <tr style=\"text-align: right;\">\n",
       "      <th></th>\n",
       "      <th>age</th>\n",
       "      <th>male</th>\n",
       "      <th>bmi</th>\n",
       "      <th>children</th>\n",
       "      <th>smoker</th>\n",
       "      <th>region</th>\n",
       "      <th>charges</th>\n",
       "    </tr>\n",
       "  </thead>\n",
       "  <tbody>\n",
       "    <tr>\n",
       "      <th>0</th>\n",
       "      <td>19</td>\n",
       "      <td>0</td>\n",
       "      <td>27.900</td>\n",
       "      <td>0</td>\n",
       "      <td>1</td>\n",
       "      <td>southwest</td>\n",
       "      <td>16884.92400</td>\n",
       "    </tr>\n",
       "    <tr>\n",
       "      <th>1</th>\n",
       "      <td>18</td>\n",
       "      <td>1</td>\n",
       "      <td>33.770</td>\n",
       "      <td>1</td>\n",
       "      <td>0</td>\n",
       "      <td>southeast</td>\n",
       "      <td>1725.55230</td>\n",
       "    </tr>\n",
       "    <tr>\n",
       "      <th>2</th>\n",
       "      <td>28</td>\n",
       "      <td>1</td>\n",
       "      <td>33.000</td>\n",
       "      <td>3</td>\n",
       "      <td>0</td>\n",
       "      <td>southeast</td>\n",
       "      <td>4449.46200</td>\n",
       "    </tr>\n",
       "    <tr>\n",
       "      <th>3</th>\n",
       "      <td>33</td>\n",
       "      <td>1</td>\n",
       "      <td>22.705</td>\n",
       "      <td>0</td>\n",
       "      <td>0</td>\n",
       "      <td>northwest</td>\n",
       "      <td>21984.47061</td>\n",
       "    </tr>\n",
       "    <tr>\n",
       "      <th>4</th>\n",
       "      <td>32</td>\n",
       "      <td>1</td>\n",
       "      <td>28.880</td>\n",
       "      <td>0</td>\n",
       "      <td>0</td>\n",
       "      <td>northwest</td>\n",
       "      <td>3866.85520</td>\n",
       "    </tr>\n",
       "  </tbody>\n",
       "</table>\n",
       "</div>"
      ],
      "text/plain": [
       "   age  male     bmi  children  smoker     region      charges\n",
       "0   19     0  27.900         0       1  southwest  16884.92400\n",
       "1   18     1  33.770         1       0  southeast   1725.55230\n",
       "2   28     1  33.000         3       0  southeast   4449.46200\n",
       "3   33     1  22.705         0       0  northwest  21984.47061\n",
       "4   32     1  28.880         0       0  northwest   3866.85520"
      ]
     },
     "execution_count": 25,
     "metadata": {},
     "output_type": "execute_result"
    }
   ],
   "source": [
    "#Now we can see that our sex variable has been changed to a binary variable and renamed to make it more clear that a 1 signals\n",
    "#a male and a 0 a female\n",
    "insurance_data.head()"
   ]
  },
  {
   "cell_type": "code",
   "execution_count": 26,
   "metadata": {},
   "outputs": [
    {
     "data": {
      "text/plain": [
       "0    (17.954, 29.5]\n",
       "1    (17.954, 29.5]\n",
       "2    (17.954, 29.5]\n",
       "3      (29.5, 41.0]\n",
       "4      (29.5, 41.0]\n",
       "Name: age_bins, dtype: category\n",
       "Categories (4, interval[float64]): [(17.954, 29.5] < (29.5, 41.0] < (41.0, 52.5] < (52.5, 64.0]]"
      ]
     },
     "execution_count": 26,
     "metadata": {},
     "output_type": "execute_result"
    }
   ],
   "source": [
    "#Seperate the ages and bmis into 4 groups\n",
    "insurance_data['age_bins'] = pd.cut(insurance_data['age'], 4)\n",
    "insurance_data['age_bins'].head()"
   ]
  },
  {
   "cell_type": "code",
   "execution_count": 27,
   "metadata": {},
   "outputs": [
    {
     "data": {
      "text/plain": [
       "0    (25.252, 34.545]\n",
       "1    (25.252, 34.545]\n",
       "2    (25.252, 34.545]\n",
       "3    (15.923, 25.252]\n",
       "4    (25.252, 34.545]\n",
       "Name: bmi_bins, dtype: category\n",
       "Categories (4, interval[float64]): [(15.923, 25.252] < (25.252, 34.545] < (34.545, 43.838] < (43.838, 53.13]]"
      ]
     },
     "execution_count": 27,
     "metadata": {},
     "output_type": "execute_result"
    }
   ],
   "source": [
    "insurance_data['bmi_bins'] = pd.cut(insurance_data['bmi'], 4)\n",
    "insurance_data['bmi_bins'].head()"
   ]
  },
  {
   "cell_type": "code",
   "execution_count": 28,
   "metadata": {},
   "outputs": [
    {
     "data": {
      "text/html": [
       "<div>\n",
       "<style scoped>\n",
       "    .dataframe tbody tr th:only-of-type {\n",
       "        vertical-align: middle;\n",
       "    }\n",
       "\n",
       "    .dataframe tbody tr th {\n",
       "        vertical-align: top;\n",
       "    }\n",
       "\n",
       "    .dataframe thead th {\n",
       "        text-align: right;\n",
       "    }\n",
       "</style>\n",
       "<table border=\"1\" class=\"dataframe\">\n",
       "  <thead>\n",
       "    <tr style=\"text-align: right;\">\n",
       "      <th></th>\n",
       "      <th>age</th>\n",
       "      <th>male</th>\n",
       "      <th>bmi</th>\n",
       "      <th>children</th>\n",
       "      <th>smoker</th>\n",
       "      <th>region</th>\n",
       "      <th>charges</th>\n",
       "      <th>age_bins</th>\n",
       "      <th>bmi_bins</th>\n",
       "    </tr>\n",
       "  </thead>\n",
       "  <tbody>\n",
       "    <tr>\n",
       "      <th>0</th>\n",
       "      <td>0</td>\n",
       "      <td>0</td>\n",
       "      <td>1.0</td>\n",
       "      <td>0</td>\n",
       "      <td>1</td>\n",
       "      <td>southwest</td>\n",
       "      <td>16884.92400</td>\n",
       "      <td>(17.954, 29.5]</td>\n",
       "      <td>(25.252, 34.545]</td>\n",
       "    </tr>\n",
       "    <tr>\n",
       "      <th>1</th>\n",
       "      <td>0</td>\n",
       "      <td>1</td>\n",
       "      <td>1.0</td>\n",
       "      <td>1</td>\n",
       "      <td>0</td>\n",
       "      <td>southeast</td>\n",
       "      <td>1725.55230</td>\n",
       "      <td>(17.954, 29.5]</td>\n",
       "      <td>(25.252, 34.545]</td>\n",
       "    </tr>\n",
       "    <tr>\n",
       "      <th>2</th>\n",
       "      <td>0</td>\n",
       "      <td>1</td>\n",
       "      <td>1.0</td>\n",
       "      <td>3</td>\n",
       "      <td>0</td>\n",
       "      <td>southeast</td>\n",
       "      <td>4449.46200</td>\n",
       "      <td>(17.954, 29.5]</td>\n",
       "      <td>(25.252, 34.545]</td>\n",
       "    </tr>\n",
       "    <tr>\n",
       "      <th>3</th>\n",
       "      <td>1</td>\n",
       "      <td>1</td>\n",
       "      <td>0.0</td>\n",
       "      <td>0</td>\n",
       "      <td>0</td>\n",
       "      <td>northwest</td>\n",
       "      <td>21984.47061</td>\n",
       "      <td>(29.5, 41.0]</td>\n",
       "      <td>(15.923, 25.252]</td>\n",
       "    </tr>\n",
       "    <tr>\n",
       "      <th>4</th>\n",
       "      <td>1</td>\n",
       "      <td>1</td>\n",
       "      <td>1.0</td>\n",
       "      <td>0</td>\n",
       "      <td>0</td>\n",
       "      <td>northwest</td>\n",
       "      <td>3866.85520</td>\n",
       "      <td>(29.5, 41.0]</td>\n",
       "      <td>(25.252, 34.545]</td>\n",
       "    </tr>\n",
       "  </tbody>\n",
       "</table>\n",
       "</div>"
      ],
      "text/plain": [
       "   age  male  bmi  children  smoker     region      charges        age_bins  \\\n",
       "0    0     0  1.0         0       1  southwest  16884.92400  (17.954, 29.5]   \n",
       "1    0     1  1.0         1       0  southeast   1725.55230  (17.954, 29.5]   \n",
       "2    0     1  1.0         3       0  southeast   4449.46200  (17.954, 29.5]   \n",
       "3    1     1  0.0         0       0  northwest  21984.47061    (29.5, 41.0]   \n",
       "4    1     1  1.0         0       0  northwest   3866.85520    (29.5, 41.0]   \n",
       "\n",
       "           bmi_bins  \n",
       "0  (25.252, 34.545]  \n",
       "1  (25.252, 34.545]  \n",
       "2  (25.252, 34.545]  \n",
       "3  (15.923, 25.252]  \n",
       "4  (25.252, 34.545]  "
      ]
     },
     "execution_count": 28,
     "metadata": {},
     "output_type": "execute_result"
    }
   ],
   "source": [
    "#Encode the ages from 0 to 3; 0 being the youngest age group of 18 to 29.5 and so on. Do the same for BMI\n",
    "insurance_data.loc[insurance_data['age'] <= 29.5, 'age']=0\n",
    "insurance_data.loc[(insurance_data['age'] > 29.5) & (insurance_data['age'] <= 41), 'age']=1\n",
    "insurance_data.loc[(insurance_data['age'] > 41) & (insurance_data['age'] <= 52.5), 'age']=2\n",
    "insurance_data.loc[insurance_data['age'] > 52.5, 'age']=3\n",
    "\n",
    "insurance_data.loc[insurance_data['bmi'] <= 25.252, 'bmi']=0\n",
    "insurance_data.loc[(insurance_data['bmi'] > 25.252) & (insurance_data['bmi'] <= 34.545), 'bmi']=1\n",
    "insurance_data.loc[(insurance_data['bmi'] > 34.545) & (insurance_data['bmi'] <= 43.838), 'bmi']=2\n",
    "insurance_data.loc[insurance_data['bmi'] > 43.838, 'bmi']=3\n",
    "insurance_data.head()"
   ]
  },
  {
   "cell_type": "markdown",
   "metadata": {},
   "source": [
    "# Exploring the Data\n",
    "Now that we have made a few minor changes to our data to make it more machine learning friendly, we are going to explore it! We are going to investigate how age, gender, and smoking affect the amount people have to pay on medical bills."
   ]
  },
  {
   "cell_type": "code",
   "execution_count": 99,
   "metadata": {},
   "outputs": [
    {
     "data": {
      "text/plain": [
       "Text(0.5,1,'Correlation Map')"
      ]
     },
     "execution_count": 99,
     "metadata": {},
     "output_type": "execute_result"
    },
    {
     "data": {
      "image/png": "[encoded data removed]",
      "text/plain": [
       "<matplotlib.figure.Figure at 0x1b82879f240>"
      ]
     },
     "metadata": {},
     "output_type": "display_data"
    }
   ],
   "source": [
    "#First lets look at a heatmap to see what variables are most correlated, especially with charges\n",
    "insurance_numerical = ['age', 'male', 'bmi', 'children', 'smoker', 'charges']\n",
    "fig, ax = plt.subplots(figsize=(12, 8))\n",
    "plot = sns.heatmap(insurance_data[insurance_numerical].corr(), square = True, annot = True)\n",
    "plot.set_title(\"Correlation Map\")"
   ]
  },
  {
   "cell_type": "markdown",
   "metadata": {},
   "source": [
    "Looking at the correlation map above, we see, unsurprisingly perhaps, that smoking has the highest correlation with the charges variable. So lets go ahead and look at how much of a difference there is in charges between the smokers and non smokers."
   ]
  },
  {
   "cell_type": "code",
   "execution_count": 133,
   "metadata": {},
   "outputs": [],
   "source": [
    "#Create a quick function for exploring the charges variable through the lens of other variables\n",
    "def explore_charges(exploring_variable):\n",
    "    print(\"The average charges for the groups of\", exploring_variable,\"are as follows:\")\n",
    "    print(insurance_data.groupby(exploring_variable)['charges'].mean())\n",
    "    print(\"-\"*100)\n",
    "    print(\"The distribution of charges for the groups of\", exploring_variable,\"are as follows:\")\n",
    "    plot = sns.FacetGrid(insurance_data, col = exploring_variable, aspect=1.5, margin_titles = True)\n",
    "    plot.map(sns.distplot, 'charges' )"
   ]
  },
  {
   "cell_type": "code",
   "execution_count": 134,
   "metadata": {},
   "outputs": [
    {
     "name": "stdout",
     "output_type": "stream",
     "text": [
      "The average charges for the groups of smoker are as follows:\n",
      "smoker\n",
      "0     8434.268298\n",
      "1    32050.231832\n",
      "Name: charges, dtype: float64\n",
      "----------------------------------------------------------------------------------------------------\n",
      "The distribution of charges for the groups of smoker are as follows:\n"
     ]
    },
    {
     "data": {
      "image/png": "[encoded data removed]",
      "text/plain": [
       "<matplotlib.figure.Figure at 0x1b828578cf8>"
      ]
     },
     "metadata": {},
     "output_type": "display_data"
    }
   ],
   "source": [
    "explore_charges('smoker')"
   ]
  },
  {
   "cell_type": "markdown",
   "metadata": {},
   "source": [
    "We can see that the differences in charges for non-smokers and smokers is pretty big! We also can see that while the smokers do have a few observations up around the \\$60,000 range, a ton of the charges for them were right around \\$40,000. So it is pretty normal for smokers to be charged much more for their medical bills!\n",
    "\n",
    "After smoking, BMI and age were the next two highest correlated variables with charges. So we are also going to take a quick look at what they have to show us! We will also take a look at if charges are different across different regions of the country too."
   ]
  },
  {
   "cell_type": "code",
   "execution_count": 135,
   "metadata": {},
   "outputs": [
    {
     "name": "stdout",
     "output_type": "stream",
     "text": [
      "The average charges for the groups of region are as follows:\n",
      "region\n",
      "northeast    13406.384516\n",
      "northwest    12417.575374\n",
      "southeast    14735.411438\n",
      "southwest    12346.937377\n",
      "Name: charges, dtype: float64\n",
      "----------------------------------------------------------------------------------------------------\n",
      "The distribution of charges for the groups of region are as follows:\n"
     ]
    },
    {
     "data": {
      "image/png": "[encoded data removed]",
      "text/plain": [
       "<matplotlib.figure.Figure at 0x1b827fc0080>"
      ]
     },
     "metadata": {},
     "output_type": "display_data"
    }
   ],
   "source": [
    "explore_charges('region')"
   ]
  },
  {
   "cell_type": "markdown",
   "metadata": {},
   "source": [
    "These all look pretty similar. There isnt anything too crazy as far as differences go between the different regions. So let's move on to the other variables."
   ]
  },
  {
   "cell_type": "code",
   "execution_count": 136,
   "metadata": {},
   "outputs": [
    {
     "name": "stdout",
     "output_type": "stream",
     "text": [
      "The average charges for the groups of bmi are as follows:\n",
      "bmi\n",
      "0.0    10288.171888\n",
      "1.0    12642.395517\n",
      "2.0    16892.764274\n",
      "3.0    17143.542030\n",
      "Name: charges, dtype: float64\n",
      "----------------------------------------------------------------------------------------------------\n",
      "The distribution of charges for the groups of bmi are as follows:\n"
     ]
    },
    {
     "data": {
      "image/png": "[encoded data removed]",
      "text/plain": [
       "<matplotlib.figure.Figure at 0x1b82872f0f0>"
      ]
     },
     "metadata": {},
     "output_type": "display_data"
    }
   ],
   "source": [
    "explore_charges('bmi')"
   ]
  },
  {
   "cell_type": "code",
   "execution_count": 137,
   "metadata": {},
   "outputs": [
    {
     "name": "stdout",
     "output_type": "stream",
     "text": [
      "The average charges for the groups of age are as follows:\n",
      "age\n",
      "0     9182.487125\n",
      "1    11560.673428\n",
      "2    15632.436584\n",
      "3    18302.141642\n",
      "Name: charges, dtype: float64\n",
      "----------------------------------------------------------------------------------------------------\n",
      "The distribution of charges for the groups of age are as follows:\n"
     ]
    },
    {
     "data": {
      "image/png": "[encoded data removed]",
      "text/plain": [
       "<matplotlib.figure.Figure at 0x1b819570ba8>"
      ]
     },
     "metadata": {},
     "output_type": "display_data"
    }
   ],
   "source": [
    "explore_charges('age')"
   ]
  },
  {
   "cell_type": "markdown",
   "metadata": {},
   "source": [
    "The differences between bmi groups and age groups are what we might expect. As people get older and have a higher BMI, expenses go up. While we can see this upward trend, it is nowhere near the increases in charges that we see from smoking. So what is the moral of the story? Not smoking will save you a lot of money!"
   ]
  },
  {
   "cell_type": "markdown",
   "metadata": {},
   "source": [
    "# Baby Names From Different Ethnicities in New York\n",
    "This dataset is being looked at to show manipulation and cleaning with a json and more text heavy data.\n",
    "\n",
    "Do you need some ideas for what to name your next child? Or maybe what not to name them? Read on as we dive into the most popular baby names from 2011 to 2016."
   ]
  },
  {
   "cell_type": "code",
   "execution_count": 35,
   "metadata": {},
   "outputs": [
    {
     "data": {
      "text/plain": [
       "dict_keys(['meta', 'data'])"
      ]
     },
     "execution_count": 35,
     "metadata": {},
     "output_type": "execute_result"
    }
   ],
   "source": [
    "get_request = requests.get(\"https://data.cityofnewyork.us/api/views/25th-nujf/rows.json?accessType=DOWNLOAD\")\n",
    "baby_dict = json.loads(get_request.text)\n",
    "baby_dict.keys()"
   ]
  },
  {
   "cell_type": "code",
   "execution_count": 36,
   "metadata": {},
   "outputs": [
    {
     "data": {
      "text/html": [
       "<div>\n",
       "<style scoped>\n",
       "    .dataframe tbody tr th:only-of-type {\n",
       "        vertical-align: middle;\n",
       "    }\n",
       "\n",
       "    .dataframe tbody tr th {\n",
       "        vertical-align: top;\n",
       "    }\n",
       "\n",
       "    .dataframe thead th {\n",
       "        text-align: right;\n",
       "    }\n",
       "</style>\n",
       "<table border=\"1\" class=\"dataframe\">\n",
       "  <thead>\n",
       "    <tr style=\"text-align: right;\">\n",
       "      <th></th>\n",
       "      <th>0</th>\n",
       "      <th>1</th>\n",
       "      <th>2</th>\n",
       "      <th>3</th>\n",
       "      <th>4</th>\n",
       "      <th>5</th>\n",
       "      <th>6</th>\n",
       "      <th>7</th>\n",
       "      <th>8</th>\n",
       "      <th>9</th>\n",
       "      <th>10</th>\n",
       "      <th>11</th>\n",
       "      <th>12</th>\n",
       "      <th>13</th>\n",
       "    </tr>\n",
       "  </thead>\n",
       "  <tbody>\n",
       "    <tr>\n",
       "      <th>0</th>\n",
       "      <td>30110</td>\n",
       "      <td>A1A3F29A-FE53-4374-8EEC-AED8B5C3D42D</td>\n",
       "      <td>30110</td>\n",
       "      <td>1534519451</td>\n",
       "      <td>399231</td>\n",
       "      <td>1534519451</td>\n",
       "      <td>399231</td>\n",
       "      <td>None</td>\n",
       "      <td>2011</td>\n",
       "      <td>FEMALE</td>\n",
       "      <td>ASIAN AND PACIFIC ISLANDER</td>\n",
       "      <td>SOPHIA</td>\n",
       "      <td>119</td>\n",
       "      <td>1</td>\n",
       "    </tr>\n",
       "    <tr>\n",
       "      <th>1</th>\n",
       "      <td>30111</td>\n",
       "      <td>C1155C27-19FD-4158-A3C4-DEF3423BE8BD</td>\n",
       "      <td>30111</td>\n",
       "      <td>1534519451</td>\n",
       "      <td>399231</td>\n",
       "      <td>1534519451</td>\n",
       "      <td>399231</td>\n",
       "      <td>None</td>\n",
       "      <td>2011</td>\n",
       "      <td>FEMALE</td>\n",
       "      <td>ASIAN AND PACIFIC ISLANDER</td>\n",
       "      <td>CHLOE</td>\n",
       "      <td>106</td>\n",
       "      <td>2</td>\n",
       "    </tr>\n",
       "    <tr>\n",
       "      <th>2</th>\n",
       "      <td>30112</td>\n",
       "      <td>BD8C1715-864B-4269-923A-88A8350236F4</td>\n",
       "      <td>30112</td>\n",
       "      <td>1534519451</td>\n",
       "      <td>399231</td>\n",
       "      <td>1534519451</td>\n",
       "      <td>399231</td>\n",
       "      <td>None</td>\n",
       "      <td>2011</td>\n",
       "      <td>FEMALE</td>\n",
       "      <td>ASIAN AND PACIFIC ISLANDER</td>\n",
       "      <td>EMILY</td>\n",
       "      <td>93</td>\n",
       "      <td>3</td>\n",
       "    </tr>\n",
       "    <tr>\n",
       "      <th>3</th>\n",
       "      <td>30113</td>\n",
       "      <td>6E6ACF9A-794A-4B70-A92C-5824577B41FE</td>\n",
       "      <td>30113</td>\n",
       "      <td>1534519451</td>\n",
       "      <td>399231</td>\n",
       "      <td>1534519451</td>\n",
       "      <td>399231</td>\n",
       "      <td>None</td>\n",
       "      <td>2011</td>\n",
       "      <td>FEMALE</td>\n",
       "      <td>ASIAN AND PACIFIC ISLANDER</td>\n",
       "      <td>OLIVIA</td>\n",
       "      <td>89</td>\n",
       "      <td>4</td>\n",
       "    </tr>\n",
       "    <tr>\n",
       "      <th>4</th>\n",
       "      <td>30114</td>\n",
       "      <td>FB45EECF-D643-4B84-BADE-A252A579432F</td>\n",
       "      <td>30114</td>\n",
       "      <td>1534519451</td>\n",
       "      <td>399231</td>\n",
       "      <td>1534519451</td>\n",
       "      <td>399231</td>\n",
       "      <td>None</td>\n",
       "      <td>2011</td>\n",
       "      <td>FEMALE</td>\n",
       "      <td>ASIAN AND PACIFIC ISLANDER</td>\n",
       "      <td>EMMA</td>\n",
       "      <td>75</td>\n",
       "      <td>5</td>\n",
       "    </tr>\n",
       "  </tbody>\n",
       "</table>\n",
       "</div>"
      ],
      "text/plain": [
       "      0                                     1      2           3       4   \\\n",
       "0  30110  A1A3F29A-FE53-4374-8EEC-AED8B5C3D42D  30110  1534519451  399231   \n",
       "1  30111  C1155C27-19FD-4158-A3C4-DEF3423BE8BD  30111  1534519451  399231   \n",
       "2  30112  BD8C1715-864B-4269-923A-88A8350236F4  30112  1534519451  399231   \n",
       "3  30113  6E6ACF9A-794A-4B70-A92C-5824577B41FE  30113  1534519451  399231   \n",
       "4  30114  FB45EECF-D643-4B84-BADE-A252A579432F  30114  1534519451  399231   \n",
       "\n",
       "           5       6     7     8       9                           10      11  \\\n",
       "0  1534519451  399231  None  2011  FEMALE  ASIAN AND PACIFIC ISLANDER  SOPHIA   \n",
       "1  1534519451  399231  None  2011  FEMALE  ASIAN AND PACIFIC ISLANDER   CHLOE   \n",
       "2  1534519451  399231  None  2011  FEMALE  ASIAN AND PACIFIC ISLANDER   EMILY   \n",
       "3  1534519451  399231  None  2011  FEMALE  ASIAN AND PACIFIC ISLANDER  OLIVIA   \n",
       "4  1534519451  399231  None  2011  FEMALE  ASIAN AND PACIFIC ISLANDER    EMMA   \n",
       "\n",
       "    12 13  \n",
       "0  119  1  \n",
       "1  106  2  \n",
       "2   93  3  \n",
       "3   89  4  \n",
       "4   75  5  "
      ]
     },
     "execution_count": 36,
     "metadata": {},
     "output_type": "execute_result"
    }
   ],
   "source": [
    "#Turning the json into a dataframe\n",
    "baby_names = pd.DataFrame(baby_dict['data'])\n",
    "baby_names.head()\n"
   ]
  },
  {
   "cell_type": "markdown",
   "metadata": {},
   "source": [
    "The data from our json file was not imported quite how we might have hoped. So first we are going to get rid of the columns that we don't need and make sure our columns that we have left are named correctly."
   ]
  },
  {
   "cell_type": "code",
   "execution_count": 37,
   "metadata": {},
   "outputs": [
    {
     "data": {
      "text/html": [
       "<div>\n",
       "<style scoped>\n",
       "    .dataframe tbody tr th:only-of-type {\n",
       "        vertical-align: middle;\n",
       "    }\n",
       "\n",
       "    .dataframe tbody tr th {\n",
       "        vertical-align: top;\n",
       "    }\n",
       "\n",
       "    .dataframe thead th {\n",
       "        text-align: right;\n",
       "    }\n",
       "</style>\n",
       "<table border=\"1\" class=\"dataframe\">\n",
       "  <thead>\n",
       "    <tr style=\"text-align: right;\">\n",
       "      <th></th>\n",
       "      <th>Year</th>\n",
       "      <th>Gender</th>\n",
       "      <th>Ethnicity</th>\n",
       "      <th>Baby Name</th>\n",
       "      <th>Count</th>\n",
       "      <th>Rank</th>\n",
       "    </tr>\n",
       "  </thead>\n",
       "  <tbody>\n",
       "    <tr>\n",
       "      <th>0</th>\n",
       "      <td>2011</td>\n",
       "      <td>FEMALE</td>\n",
       "      <td>ASIAN AND PACIFIC ISLANDER</td>\n",
       "      <td>SOPHIA</td>\n",
       "      <td>119</td>\n",
       "      <td>1</td>\n",
       "    </tr>\n",
       "    <tr>\n",
       "      <th>1</th>\n",
       "      <td>2011</td>\n",
       "      <td>FEMALE</td>\n",
       "      <td>ASIAN AND PACIFIC ISLANDER</td>\n",
       "      <td>CHLOE</td>\n",
       "      <td>106</td>\n",
       "      <td>2</td>\n",
       "    </tr>\n",
       "    <tr>\n",
       "      <th>2</th>\n",
       "      <td>2011</td>\n",
       "      <td>FEMALE</td>\n",
       "      <td>ASIAN AND PACIFIC ISLANDER</td>\n",
       "      <td>EMILY</td>\n",
       "      <td>93</td>\n",
       "      <td>3</td>\n",
       "    </tr>\n",
       "    <tr>\n",
       "      <th>3</th>\n",
       "      <td>2011</td>\n",
       "      <td>FEMALE</td>\n",
       "      <td>ASIAN AND PACIFIC ISLANDER</td>\n",
       "      <td>OLIVIA</td>\n",
       "      <td>89</td>\n",
       "      <td>4</td>\n",
       "    </tr>\n",
       "    <tr>\n",
       "      <th>4</th>\n",
       "      <td>2011</td>\n",
       "      <td>FEMALE</td>\n",
       "      <td>ASIAN AND PACIFIC ISLANDER</td>\n",
       "      <td>EMMA</td>\n",
       "      <td>75</td>\n",
       "      <td>5</td>\n",
       "    </tr>\n",
       "  </tbody>\n",
       "</table>\n",
       "</div>"
      ],
      "text/plain": [
       "   Year  Gender                   Ethnicity Baby Name Count Rank\n",
       "0  2011  FEMALE  ASIAN AND PACIFIC ISLANDER    SOPHIA   119    1\n",
       "1  2011  FEMALE  ASIAN AND PACIFIC ISLANDER     CHLOE   106    2\n",
       "2  2011  FEMALE  ASIAN AND PACIFIC ISLANDER     EMILY    93    3\n",
       "3  2011  FEMALE  ASIAN AND PACIFIC ISLANDER    OLIVIA    89    4\n",
       "4  2011  FEMALE  ASIAN AND PACIFIC ISLANDER      EMMA    75    5"
      ]
     },
     "execution_count": 37,
     "metadata": {},
     "output_type": "execute_result"
    }
   ],
   "source": [
    "#Grab the last 5 columns of the dataframe and rename them appropriately\n",
    "baby_names = baby_names.iloc[:,8:]\n",
    "baby_names = baby_names.rename(index=str, columns={8: \"Year\", 9: \"Gender\", 10: \"Ethnicity\", 11: \"Baby Name\", 12: \"Count\", 13: \"Rank\"})\n",
    "baby_names.head()"
   ]
  },
  {
   "cell_type": "code",
   "execution_count": 38,
   "metadata": {},
   "outputs": [
    {
     "data": {
      "text/plain": [
       "Year         0\n",
       "Gender       0\n",
       "Ethnicity    0\n",
       "Baby Name    0\n",
       "Count        0\n",
       "Rank         0\n",
       "dtype: int64"
      ]
     },
     "execution_count": 38,
     "metadata": {},
     "output_type": "execute_result"
    }
   ],
   "source": [
    "#Check for any null values\n",
    "baby_names.isna().sum()"
   ]
  },
  {
   "cell_type": "markdown",
   "metadata": {},
   "source": [
    "Fantastic. Since there are no missing values in our dataset, we are going to go ahead and make sure all of our columns are the correct data type and take a peek at the different ethnicities we are observing."
   ]
  },
  {
   "cell_type": "code",
   "execution_count": 39,
   "metadata": {},
   "outputs": [
    {
     "data": {
      "text/plain": [
       "Year         object\n",
       "Gender       object\n",
       "Ethnicity    object\n",
       "Baby Name    object\n",
       "Count        object\n",
       "Rank         object\n",
       "dtype: object"
      ]
     },
     "execution_count": 39,
     "metadata": {},
     "output_type": "execute_result"
    }
   ],
   "source": [
    "#Check data types\n",
    "baby_names.dtypes"
   ]
  },
  {
   "cell_type": "code",
   "execution_count": 40,
   "metadata": {},
   "outputs": [],
   "source": [
    "#Change numeric data types\n",
    "baby_names['Year'] = pd.to_numeric(baby_names['Year'])\n",
    "baby_names['Count'] = pd.to_numeric(baby_names['Count'])\n",
    "baby_names['Rank'] = pd.to_numeric(baby_names['Rank'])"
   ]
  },
  {
   "cell_type": "code",
   "execution_count": 41,
   "metadata": {},
   "outputs": [
    {
     "data": {
      "text/plain": [
       "Year          int64\n",
       "Gender       object\n",
       "Ethnicity    object\n",
       "Baby Name    object\n",
       "Count         int64\n",
       "Rank          int64\n",
       "dtype: object"
      ]
     },
     "execution_count": 41,
     "metadata": {},
     "output_type": "execute_result"
    }
   ],
   "source": [
    "#Check to make sure data types were changed\n",
    "baby_names.dtypes"
   ]
  },
  {
   "cell_type": "code",
   "execution_count": 42,
   "metadata": {},
   "outputs": [
    {
     "data": {
      "text/plain": [
       "array(['ASIAN AND PACIFIC ISLANDER', 'BLACK NON HISPANIC', 'HISPANIC',\n",
       "       'WHITE NON HISPANIC', 'ASIAN AND PACI', 'BLACK NON HISP',\n",
       "       'WHITE NON HISP'], dtype=object)"
      ]
     },
     "execution_count": 42,
     "metadata": {},
     "output_type": "execute_result"
    }
   ],
   "source": [
    "#Get a list of unique values for ethnicity\n",
    "baby_names['Ethnicity'].unique()"
   ]
  },
  {
   "cell_type": "markdown",
   "metadata": {},
   "source": [
    "It looks like we might have a little more cleaning to do! 3 of our 4 ethnicities have been labeled in 2 different ways. We are going to go through and make sure we have an uniform labeling system for our ethnic groups! "
   ]
  },
  {
   "cell_type": "code",
   "execution_count": 43,
   "metadata": {},
   "outputs": [],
   "source": [
    "#Standardize the ethnicity names in the dataframe\n",
    "baby_names.loc[(baby_names['Ethnicity'] == 'ASIAN AND PACIFIC ISLANDER'), 'Ethnicity'] = 'Asian Pacific'\n",
    "baby_names.loc[(baby_names['Ethnicity'] == 'ASIAN AND PACI'), 'Ethnicity'] = 'Asian Pacific'\n",
    "baby_names.loc[(baby_names['Ethnicity'] == 'BLACK NON HISPANIC'), 'Ethnicity'] = 'African American'\n",
    "baby_names.loc[(baby_names['Ethnicity'] == 'BLACK NON HISP'), 'Ethnicity'] = 'African American'\n",
    "baby_names.loc[(baby_names['Ethnicity'] == 'HISPANIC'), 'Ethnicity'] = 'Hispanic'\n",
    "baby_names.loc[(baby_names['Ethnicity'] == 'WHITE NON HISPANIC'), 'Ethnicity'] = 'White'\n",
    "baby_names.loc[(baby_names['Ethnicity'] == 'WHITE NON HISP'), 'Ethnicity'] = 'White'"
   ]
  },
  {
   "cell_type": "code",
   "execution_count": 44,
   "metadata": {},
   "outputs": [
    {
     "data": {
      "text/plain": [
       "array(['Asian Pacific', 'African American', 'Hispanic', 'White'], dtype=object)"
      ]
     },
     "execution_count": 44,
     "metadata": {},
     "output_type": "execute_result"
    }
   ],
   "source": [
    "#Check to make sure the ethnicity column looks better\n",
    "baby_names['Ethnicity'].unique()"
   ]
  },
  {
   "cell_type": "markdown",
   "metadata": {},
   "source": [
    "# Data Exploration\n",
    "Now that we have made sure all of our data will be easy to sort through, its time to pick out some baby names! First we are going to look at some popular names across ethnic groups, in case you are interested in a mainstream baby name. Then we will go ahead and look at some of the much less popular names in case you are interested in being unique! "
   ]
  },
  {
   "cell_type": "code",
   "execution_count": 45,
   "metadata": {},
   "outputs": [],
   "source": [
    "#Define a function to display the top baby names from each year for a certain ethnicity\n",
    "def find_top_names(ethnicity):\n",
    "    df = baby_names.loc[(baby_names['Rank']==1)&(baby_names['Ethnicity']==ethnicity)]\n",
    "    print(\"Top baby names among the\", ethnicity, \"ethnicity: \\n\")\n",
    "    print(df.sort_values(by = 'Year'), '\\n')"
   ]
  },
  {
   "cell_type": "markdown",
   "metadata": {},
   "source": [
    "Now that we have our data ready to go, let's see what the most popular baby names were across the different ethnicities! "
   ]
  },
  {
   "cell_type": "code",
   "execution_count": 46,
   "metadata": {},
   "outputs": [
    {
     "name": "stdout",
     "output_type": "stream",
     "text": [
      "Top baby names among the White ethnicity: \n",
      "\n",
      "       Year  Gender Ethnicity Baby Name  Count  Rank\n",
      "656    2011  FEMALE     White    ESTHER    224     1\n",
      "1630   2011    MALE     White   MICHAEL    292     1\n",
      "2550   2012  FEMALE     White      EMMA    228     1\n",
      "3492   2012    MALE     White    JOSEPH    300     1\n",
      "4350   2013  FEMALE     White    Olivia    233     1\n",
      "5219   2013    MALE     White     David    304     1\n",
      "8185   2015    MALE     White     David    299     1\n",
      "8530   2015  FEMALE     White      Emma    225     1\n",
      "8531   2015  FEMALE     White    Olivia    225     1\n",
      "10250  2016    MALE     White    Joseph    261     1\n",
      "10614  2016  FEMALE     White    Olivia    230     1 \n",
      "\n"
     ]
    }
   ],
   "source": [
    "find_top_names('White')"
   ]
  },
  {
   "cell_type": "markdown",
   "metadata": {},
   "source": [
    "Looking at our table, there are a few names that were repeated over several years. It looks like the names David and Joseph for boys, and Olivia and Emma for girls have been the most popular lately among this ethnicity. Let's look at the other 3 and then compare them all. "
   ]
  },
  {
   "cell_type": "code",
   "execution_count": 47,
   "metadata": {},
   "outputs": [
    {
     "name": "stdout",
     "output_type": "stream",
     "text": [
      "Top baby names among the Asian Pacific ethnicity: \n",
      "\n",
      "       Year  Gender      Ethnicity Baby Name  Count  Rank\n",
      "0      2011  FEMALE  Asian Pacific    SOPHIA    119     1\n",
      "993    2011    MALE  Asian Pacific     ETHAN    177     1\n",
      "1937   2012  FEMALE  Asian Pacific     CHLOE    172     1\n",
      "2891   2012    MALE  Asian Pacific      RYAN    197     1\n",
      "7810   2015    MALE  Asian Pacific    Jayden    190     1\n",
      "7998   2015  FEMALE  Asian Pacific    Olivia    188     1\n",
      "9873   2016    MALE  Asian Pacific     Ethan    193     1\n",
      "10068  2016  FEMALE  Asian Pacific    Olivia    172     1 \n",
      "\n",
      "Top baby names among the African American ethnicity: \n",
      "\n",
      "       Year  Gender         Ethnicity Baby Name  Count  Rank\n",
      "154    2011  FEMALE  African American   MADISON    176     1\n",
      "1144   2011    MALE  African American    JAYDEN    184     1\n",
      "8916   2015    MALE  African American      Noah    163     1\n",
      "9099   2015  FEMALE  African American   Madison    128     1\n",
      "11000  2016    MALE  African American      Noah    148     1\n",
      "11171  2016  FEMALE  African American       Ava    109     1 \n",
      "\n",
      "Top baby names among the Hispanic ethnicity: \n",
      "\n",
      "      Year  Gender Ethnicity Baby Name  Count  Rank\n",
      "335   2011  FEMALE  Hispanic  ISABELLA    331     1\n",
      "6716  2014    MALE  Hispanic      Liam    312     1\n",
      "7237  2015    MALE  Hispanic      Liam    356     1\n",
      "7522  2015  FEMALE  Hispanic  Isabella    307     1\n",
      "9282  2016    MALE  Hispanic      Liam    387     1\n",
      "9568  2016  FEMALE  Hispanic  Isabella    276     1 \n",
      "\n",
      "Top baby names among the White ethnicity: \n",
      "\n",
      "       Year  Gender Ethnicity Baby Name  Count  Rank\n",
      "656    2011  FEMALE     White    ESTHER    224     1\n",
      "1630   2011    MALE     White   MICHAEL    292     1\n",
      "2550   2012  FEMALE     White      EMMA    228     1\n",
      "3492   2012    MALE     White    JOSEPH    300     1\n",
      "4350   2013  FEMALE     White    Olivia    233     1\n",
      "5219   2013    MALE     White     David    304     1\n",
      "8185   2015    MALE     White     David    299     1\n",
      "8530   2015  FEMALE     White      Emma    225     1\n",
      "8531   2015  FEMALE     White    Olivia    225     1\n",
      "10250  2016    MALE     White    Joseph    261     1\n",
      "10614  2016  FEMALE     White    Olivia    230     1 \n",
      "\n"
     ]
    }
   ],
   "source": [
    "#Create a loop to print out the most popular names for each ethnicity\n",
    "ethnicities = ['Asian Pacific', 'African American', 'Hispanic', 'White']\n",
    "for i in ethnicities:\n",
    "    find_top_names(i)"
   ]
  },
  {
   "cell_type": "markdown",
   "metadata": {},
   "source": [
    "It looks like the only similarity across the top baby names of different ethnic groups is the name Olivia between the Asian Pacific and White groups. The African American group likes the names Madison and Noah a lot, and we can see that the Hispanic group has clear favorite names in New York.\n",
    "\n",
    "So what if you don't want your child to have the same name as 4 other children in their class? Let's see what some of the least common names were in the New York Area."
   ]
  },
  {
   "cell_type": "code",
   "execution_count": 48,
   "metadata": {},
   "outputs": [],
   "source": [
    "#Function to grab the 5 least popular male and female baby names\n",
    "def find_least_common_names(ethnicity):\n",
    "    df = baby_names.loc[baby_names['Ethnicity'] == ethnicity]\n",
    "    dfm = df.loc[df['Gender'] == 'MALE']\n",
    "    dff = df.loc[df['Gender'] == 'FEMALE']\n",
    "    dfs = [dfm, dff]\n",
    "    dfm = dfm.sort_values(by = 'Count')\n",
    "    dfm = dfm.iloc[0:5, :]\n",
    "    dff = dff.sort_values(by = 'Count')\n",
    "    dff = dff.iloc[0:5, :]\n",
    "    df = pd.concat([dfm, dff])\n",
    "    print(\"Five of the least popular male and female names among the\", ethnicity, \"ethnicity: \\n\")\n",
    "    print(df, \"\\n\")"
   ]
  },
  {
   "cell_type": "code",
   "execution_count": 49,
   "metadata": {},
   "outputs": [
    {
     "name": "stdout",
     "output_type": "stream",
     "text": [
      "Five of the least popular male and female names among the Asian Pacific ethnicity: \n",
      "\n",
      "       Year  Gender      Ethnicity  Baby Name  Count  Rank\n",
      "10067  2016    MALE  Asian Pacific     Wilson     10    59\n",
      "3050   2012    MALE  Asian Pacific       NEIL     10    61\n",
      "3051   2012    MALE  Asian Pacific     SHAYAN     10    61\n",
      "3052   2012    MALE  Asian Pacific     SUBHAN     10    61\n",
      "3053   2012    MALE  Asian Pacific     VIHAAN     10    61\n",
      "10249  2016  FEMALE  Asian Pacific      Syeda     10    41\n",
      "2100   2012  FEMALE  Asian Pacific       JUDY     10    45\n",
      "2101   2012  FEMALE  Asian Pacific  MADELEINE     10    45\n",
      "2102   2012  FEMALE  Asian Pacific   PENELOPE     10    45\n",
      "2103   2012  FEMALE  Asian Pacific      RILEY     10    45 \n",
      "\n",
      "Five of the least popular male and female names among the African American ethnicity: \n",
      "\n",
      "       Year  Gender         Ethnicity Baby Name  Count  Rank\n",
      "4957   2013    MALE  African American    Jamari     10    62\n",
      "3212   2012    MALE  African American     CADEN     10    61\n",
      "3213   2012    MALE  African American    CONNOR     10    61\n",
      "3214   2012    MALE  African American    DAMANI     10    61\n",
      "3215   2012    MALE  African American     ELIAS     10    61\n",
      "11344  2016  FEMALE  African American     Zahra     10    43\n",
      "318    2011  FEMALE  African American  CHEYENNE     10    45\n",
      "317    2011  FEMALE  African American     AISHA     10    45\n",
      "4083   2013  FEMALE  African American   Aissata     10    47\n",
      "4084   2013  FEMALE  African American     Amani     10    47 \n",
      "\n",
      "Five of the least popular male and female names among the Hispanic ethnicity: \n",
      "\n",
      "      Year  Gender Ethnicity Baby Name  Count  Rank\n",
      "5216  2013    MALE  Hispanic    Wilson     10    95\n",
      "3487  2012    MALE  Hispanic    KAIDEN     10   100\n",
      "3488  2012    MALE  Hispanic    LEONEL     10   100\n",
      "3489  2012    MALE  Hispanic      LUKE     10   100\n",
      "3490  2012    MALE  Hispanic     ROMAN     10   100\n",
      "4341  2013  FEMALE  Hispanic      Nyah     10    78\n",
      "2548  2012  FEMALE  Hispanic    SANDRA     10    79\n",
      "2547  2012  FEMALE  Hispanic    SALOME     10    79\n",
      "2546  2012  FEMALE  Hispanic     PAULA     10    79\n",
      "2545  2012  FEMALE  Hispanic  NATHALIA     10    79 \n",
      "\n",
      "Five of the least popular male and female names among the White ethnicity: \n",
      "\n",
      "       Year  Gender Ethnicity Baby Name  Count  Rank\n",
      "10613  2016    MALE     White   Winston     10    99\n",
      "5503   2013    MALE     White      Axel     10   100\n",
      "10612  2016    MALE     White    Walker     10    99\n",
      "5504   2013    MALE     White  Binyomin     10   100\n",
      "5505   2013    MALE     White   Bradley     10   100\n",
      "10999  2016  FEMALE     White     Zelda     10    84\n",
      "2874   2012  FEMALE     White      INES     10    83\n",
      "2873   2012  FEMALE     White  HADASSAH     10    83\n",
      "2872   2012  FEMALE     White  GABRIELA     10    83\n",
      "2871   2012  FEMALE     White     FAITH     10    83 \n",
      "\n"
     ]
    }
   ],
   "source": [
    "for i in ethnicities:\n",
    "    find_least_common_names(i)"
   ]
  },
  {
   "cell_type": "markdown",
   "metadata": {},
   "source": [
    "Above we look at a random grab of the 5 bottom male and female names across all years. It is interesting to see that some names that are very popular for some ethnicities are the most rare for others. \n"
   ]
  },
  {
   "cell_type": "markdown",
   "metadata": {},
   "source": [
    "Now we are going to look at one more thing. Which ethnicity tends to have the longest and shortest names? We are going to find out (for New Yorkers at least)! First we are going to create a new column in our dataset that tells us how long each name is."
   ]
  },
  {
   "cell_type": "code",
   "execution_count": 50,
   "metadata": {},
   "outputs": [
    {
     "data": {
      "text/html": [
       "<div>\n",
       "<style scoped>\n",
       "    .dataframe tbody tr th:only-of-type {\n",
       "        vertical-align: middle;\n",
       "    }\n",
       "\n",
       "    .dataframe tbody tr th {\n",
       "        vertical-align: top;\n",
       "    }\n",
       "\n",
       "    .dataframe thead th {\n",
       "        text-align: right;\n",
       "    }\n",
       "</style>\n",
       "<table border=\"1\" class=\"dataframe\">\n",
       "  <thead>\n",
       "    <tr style=\"text-align: right;\">\n",
       "      <th></th>\n",
       "      <th>Year</th>\n",
       "      <th>Gender</th>\n",
       "      <th>Ethnicity</th>\n",
       "      <th>Baby Name</th>\n",
       "      <th>Count</th>\n",
       "      <th>Rank</th>\n",
       "      <th>Name Length</th>\n",
       "    </tr>\n",
       "  </thead>\n",
       "  <tbody>\n",
       "    <tr>\n",
       "      <th>0</th>\n",
       "      <td>2011</td>\n",
       "      <td>FEMALE</td>\n",
       "      <td>Asian Pacific</td>\n",
       "      <td>SOPHIA</td>\n",
       "      <td>119</td>\n",
       "      <td>1</td>\n",
       "      <td>6</td>\n",
       "    </tr>\n",
       "    <tr>\n",
       "      <th>1</th>\n",
       "      <td>2011</td>\n",
       "      <td>FEMALE</td>\n",
       "      <td>Asian Pacific</td>\n",
       "      <td>CHLOE</td>\n",
       "      <td>106</td>\n",
       "      <td>2</td>\n",
       "      <td>5</td>\n",
       "    </tr>\n",
       "    <tr>\n",
       "      <th>2</th>\n",
       "      <td>2011</td>\n",
       "      <td>FEMALE</td>\n",
       "      <td>Asian Pacific</td>\n",
       "      <td>EMILY</td>\n",
       "      <td>93</td>\n",
       "      <td>3</td>\n",
       "      <td>5</td>\n",
       "    </tr>\n",
       "    <tr>\n",
       "      <th>3</th>\n",
       "      <td>2011</td>\n",
       "      <td>FEMALE</td>\n",
       "      <td>Asian Pacific</td>\n",
       "      <td>OLIVIA</td>\n",
       "      <td>89</td>\n",
       "      <td>4</td>\n",
       "      <td>6</td>\n",
       "    </tr>\n",
       "    <tr>\n",
       "      <th>4</th>\n",
       "      <td>2011</td>\n",
       "      <td>FEMALE</td>\n",
       "      <td>Asian Pacific</td>\n",
       "      <td>EMMA</td>\n",
       "      <td>75</td>\n",
       "      <td>5</td>\n",
       "      <td>4</td>\n",
       "    </tr>\n",
       "  </tbody>\n",
       "</table>\n",
       "</div>"
      ],
      "text/plain": [
       "   Year  Gender      Ethnicity Baby Name  Count  Rank  Name Length\n",
       "0  2011  FEMALE  Asian Pacific    SOPHIA    119     1            6\n",
       "1  2011  FEMALE  Asian Pacific     CHLOE    106     2            5\n",
       "2  2011  FEMALE  Asian Pacific     EMILY     93     3            5\n",
       "3  2011  FEMALE  Asian Pacific    OLIVIA     89     4            6\n",
       "4  2011  FEMALE  Asian Pacific      EMMA     75     5            4"
      ]
     },
     "execution_count": 50,
     "metadata": {},
     "output_type": "execute_result"
    }
   ],
   "source": [
    "#Create a new column for name length\n",
    "baby_names['Name Length'] = baby_names['Baby Name'].str.len()\n",
    "baby_names.head()"
   ]
  },
  {
   "cell_type": "markdown",
   "metadata": {},
   "source": [
    "Now that we have that taken care of we can check and see using a barplot if there are any differences between how long the average name is between different ethnicities."
   ]
  },
  {
   "cell_type": "code",
   "execution_count": 51,
   "metadata": {},
   "outputs": [
    {
     "data": {
      "text/plain": [
       "Text(0.5,1,'How Long are Baby Names?')"
      ]
     },
     "execution_count": 51,
     "metadata": {},
     "output_type": "execute_result"
    },
    {
     "data": {
      "image/png": "[encoded data removed]",
      "text/plain": [
       "<matplotlib.figure.Figure at 0x1b81932f2e8>"
      ]
     },
     "metadata": {},
     "output_type": "display_data"
    }
   ],
   "source": [
    "plot = sns.barplot(x = 'Ethnicity', y = 'Name Length', data = baby_names)\n",
    "plot.set_title('How Long are Baby Names?')"
   ]
  },
  {
   "cell_type": "markdown",
   "metadata": {},
   "source": [
    "There is very very little difference between all of the different ethnicities, but we can see that Hispanics just barely edge out everyone else as far as average name length. I'm sure this will be no help in choosing a baby's name but I thought it might be fun to look at.\n",
    "\n",
    "Now hopefully you have all of the data you need to help pick out your baby's name whether you want to go mainstream or tread down the unbeaten path!"
   ]
  }
 ],
 "metadata": {
  "kernelspec": {
   "display_name": "Python 3",
   "language": "python",
   "name": "python3"
  },
  "language_info": {
   "codemirror_mode": {
    "name": "ipython",
    "version": 3
   },
   "file_extension": ".py",
   "mimetype": "text/x-python",
   "name": "python",
   "nbconvert_exporter": "python",
   "pygments_lexer": "ipython3",
   "version": "3.6.4"
  }
 },
 "nbformat": 4,
 "nbformat_minor": 2
}
