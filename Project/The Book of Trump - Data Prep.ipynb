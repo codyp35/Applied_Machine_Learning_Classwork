{
 "cells": [
  {
   "cell_type": "code",
   "execution_count": 206,
   "metadata": {},
   "outputs": [
    {
     "data": {
      "text/plain": [
       "<torch._C.Generator at 0x27e512c8510>"
      ]
     },
     "execution_count": 206,
     "metadata": {},
     "output_type": "execute_result"
    }
   ],
   "source": [
    "import numpy as np\n",
    "import pandas as pd\n",
    "import torch.nn as nn\n",
    "import torch.nn.functional as F\n",
    "from torch.autograd import Variable\n",
    "import torch.optim as optim\n",
    "import torch\n",
    "import time\n",
    "\n",
    "torch.manual_seed(1)"
   ]
  },
  {
   "cell_type": "code",
   "execution_count": 186,
   "metadata": {},
   "outputs": [],
   "source": [
    "with open(r'C:\\Users\\nelso\\OneDrive\\Machine_Learning\\Project\\tweets.txt', encoding = 'utf8') as f:\n",
    "    tweets = f.readlines()\n",
    "\n",
    "del tweets[0]"
   ]
  },
  {
   "cell_type": "code",
   "execution_count": 187,
   "metadata": {},
   "outputs": [],
   "source": [
    "with open(r'C:\\Users\\nelso\\OneDrive\\Machine_Learning\\Project\\tweets.txt', encoding = 'utf8') as f:\n",
    "    content=list(set(f.read()))"
   ]
  },
  {
   "cell_type": "code",
   "execution_count": 208,
   "metadata": {},
   "outputs": [],
   "source": [
    "ix_to_char = {ix:char for ix, char in enumerate(content)}\n",
    "char_to_ix = {char:ix for ix, char in enumerate(content)}\n",
    "vocab_size = len(char_to_ix)"
   ]
  },
  {
   "cell_type": "code",
   "execution_count": 216,
   "metadata": {},
   "outputs": [],
   "source": [
    "def prepare_tweet(tweet, target = False):\n",
    "    if target==True:\n",
    "        tweet_ix = torch.tensor([char_to_ix[c] for c in tweet[1:]], dtype=torch.long)\n",
    "    else:\n",
    "        tweet_ix = torch.tensor([char_to_ix[c] for c in tweet[:-1]], dtype=torch.long)\n",
    "    return tweet_ix"
   ]
  },
  {
   "cell_type": "code",
   "execution_count": 219,
   "metadata": {},
   "outputs": [
    {
     "data": {
      "text/plain": [
       "torch.Size([177])"
      ]
     },
     "execution_count": 219,
     "metadata": {},
     "output_type": "execute_result"
    }
   ],
   "source": [
    "tweet = prepare_tweet(tweets[0])"
   ]
  },
  {
   "cell_type": "markdown",
   "metadata": {},
   "source": [
    "A few notes on building the neural network\n",
    "- Sequence length should vary for each tweet. Should be length of tweet.\n",
    "- Need to create an \\<EOS> marker\n",
    "- Embedding happens when putting input tweet into x tensor\n",
    "- From embedding, x should be passed through LSTM\n",
    "- Then need a hidden layer which should maybe spit out something the size of vocab?\n",
    "- Use a softmax to get the probability\n",
    "- NLLL to get the loss\n",
    "- Backprop\n",
    "- Run this through 2 for loops: for epoch and for tweet"
   ]
  },
  {
   "cell_type": "code",
   "execution_count": 212,
   "metadata": {},
   "outputs": [],
   "source": [
    "class RNN(nn.Module):\n",
    "    def __init__(self, embed_dim, hidden_dim, vocab_size, n_layers=1):\n",
    "        super(RNN, self).__init__()\n",
    "        self.hidden_dim = hidden_dim\n",
    "        self.n_layers = n_layers\n",
    "        self.embed = nn.Embedding(vocab_size, embed_dim)\n",
    "        \n",
    "        self.lstm = nn.LSTM(embed_dim, hidden_dim, num_layers = n_layers)\n",
    "        \n",
    "        self.hidden2char = nn.Linear(hidden_dim, vocab_size)\n",
    "        self.hidden = self.init_hidden()\n",
    "        \n",
    "    def init_hidden(self):\n",
    "        return(torch.zeros(self.n_layers, 1, self.hidden_dim),\n",
    "              torch.zeros(self.n_layers, 1, self.hidden_dim))\n",
    "    \n",
    "    def forward(self, tweet):\n",
    "        embeds = self.embed(tweet)\n",
    "        lstm_out, self.hidden = self.lstm(embeds.view(len(tweet), 1, -1),\n",
    "                                         self.hidden)\n",
    "        output = self.hidden2char(lstm_out.view(len(tweet), -1))\n",
    "        log_probs = F.log_softmax(output, dim=1)\n",
    "        return log_probs\n",
    "        "
   ]
  },
  {
   "cell_type": "code",
   "execution_count": 220,
   "metadata": {},
   "outputs": [
    {
     "name": "stdout",
     "output_type": "stream",
     "text": [
      "Epoch 1 Completed in 60.3801064491272 seconds; Loss: 1111.8014950752258\n",
      "Parameter containing:\n",
      "tensor([[ 0.9740, -1.2055, -0.5713,  ...,  0.5790,  0.1663,  0.1402],\n",
      "        [ 1.0315, -2.1694, -2.3597,  ..., -0.5947, -1.2716, -0.8087],\n",
      "        [-0.5506, -1.0910,  0.0448,  ...,  0.1050,  1.0393, -1.0583],\n",
      "        ...,\n",
      "        [-1.1538, -1.2682,  1.8882,  ...,  0.3712, -0.6047, -1.0388],\n",
      "        [ 2.1208,  0.1075,  0.7270,  ..., -0.2491,  0.3593,  0.3203],\n",
      "        [-0.3521, -0.0316, -1.6745,  ...,  0.2884,  1.0849,  0.0208]],\n",
      "       requires_grad=True)\n",
      "Epoch 2 Completed in 125.79818987846375 seconds; Loss: 918.2247023582458\n",
      "Parameter containing:\n",
      "tensor([[ 0.9771, -1.2068, -0.5709,  ...,  0.5805,  0.1667,  0.1400],\n",
      "        [ 1.0307, -2.1747, -2.3655,  ..., -0.5922, -1.2747, -0.8076],\n",
      "        [-0.5496, -1.0913,  0.0446,  ...,  0.1048,  1.0395, -1.0582],\n",
      "        ...,\n",
      "        [-1.1549, -1.2678,  1.8848,  ...,  0.3716, -0.6054, -1.0370],\n",
      "        [ 2.1224,  0.1066,  0.7265,  ..., -0.2498,  0.3597,  0.3209],\n",
      "        [-0.3507, -0.0321, -1.6747,  ...,  0.2880,  1.0856,  0.0209]],\n",
      "       requires_grad=True)\n",
      "Epoch 3 Completed in 201.86293625831604 seconds; Loss: 850.4219872951508\n",
      "Parameter containing:\n",
      "tensor([[ 0.9777, -1.2077, -0.5704,  ...,  0.5810,  0.1663,  0.1385],\n",
      "        [ 1.0279, -2.1774, -2.3681,  ..., -0.5909, -1.2777, -0.8075],\n",
      "        [-0.5490, -1.0915,  0.0443,  ...,  0.1047,  1.0395, -1.0582],\n",
      "        ...,\n",
      "        [-1.1559, -1.2672,  1.8829,  ...,  0.3718, -0.6064, -1.0363],\n",
      "        [ 2.1246,  0.1055,  0.7260,  ..., -0.2508,  0.3603,  0.3219],\n",
      "        [-0.3493, -0.0327, -1.6749,  ...,  0.2877,  1.0865,  0.0209]],\n",
      "       requires_grad=True)\n"
     ]
    }
   ],
   "source": [
    "hidden_dim = 128\n",
    "embed_size = 128 # This is going to probably get up to 128 or 256\n",
    "epochs = 3\n",
    "\n",
    "model = RNN(embed_size, hidden_dim, vocab_size)\n",
    "loss_function = nn.NLLLoss()\n",
    "optimizer = optim.SGD(model.parameters(), lr=.1)\n",
    "start = time.time()\n",
    "for epoch in range(epochs):\n",
    "    total_loss = 0\n",
    "    for tweet in tweets:\n",
    "        model.zero_grad()\n",
    "        \n",
    "        model.hidden = model.init_hidden()\n",
    "        \n",
    "        tweet_x = prepare_tweet(tweet)\n",
    "        tweet_y = prepare_tweet(tweet, target=True)\n",
    "        \n",
    "        log_probs = model(tweet_x)\n",
    "        \n",
    "        loss = loss_function(log_probs, tweet_y)\n",
    "        loss.backward()\n",
    "        optimizer.step()\n",
    "        \n",
    "        total_loss += loss.item()\n",
    "        \n",
    "    print('Epoch', epoch+1, 'Completed in', time.time()-start,'seconds; Loss:', total_loss)\n",
    "    print(list(model.parameters())[0])"
   ]
  },
  {
   "cell_type": "code",
   "execution_count": 227,
   "metadata": {},
   "outputs": [],
   "source": [
    "def generate_tweet(first):\n",
    "    char = torch.tensor(char_to_ix[first], dtype = torch.long)\n",
    "    hidden = model.init_hidden()\n",
    "    output_tweet = first\n",
    "    letter = first\n",
    "    \n",
    "    #while letter != '/n':\n",
    "    for i in range(5):\n",
    "        embeds = embed(char)\n",
    "        output, hidden = model.lstm(embeds.view(1, 1, -1), hidden)\n",
    "        topv, topi = output.topk(1)\n",
    "        topi = topi[0][0][0].item()\n",
    "        letter = ix_to_char[topi]\n",
    "        output_tweet += letter\n",
    "        char = torch.tensor(char_to_ix[letter], dtype = torch.long)\n",
    "        \n",
    "    return output_tweet"
   ]
  },
  {
   "cell_type": "code",
   "execution_count": 228,
   "metadata": {},
   "outputs": [
    {
     "ename": "KeyError",
     "evalue": "89",
     "output_type": "error",
     "traceback": [
      "\u001b[1;31m---------------------------------------------------------------------------\u001b[0m",
      "\u001b[1;31mKeyError\u001b[0m                                  Traceback (most recent call last)",
      "\u001b[1;32m<ipython-input-228-d2a91cb4d246>\u001b[0m in \u001b[0;36m<module>\u001b[1;34m\u001b[0m\n\u001b[1;32m----> 1\u001b[1;33m \u001b[0mgenerate_tweet\u001b[0m\u001b[1;33m(\u001b[0m\u001b[1;34m'a'\u001b[0m\u001b[1;33m)\u001b[0m\u001b[1;33m\u001b[0m\u001b[0m\n\u001b[0m",
      "\u001b[1;32m<ipython-input-227-f571d37e99bd>\u001b[0m in \u001b[0;36mgenerate_tweet\u001b[1;34m(first)\u001b[0m\n\u001b[0;32m     11\u001b[0m         \u001b[0mtopv\u001b[0m\u001b[1;33m,\u001b[0m \u001b[0mtopi\u001b[0m \u001b[1;33m=\u001b[0m \u001b[0moutput\u001b[0m\u001b[1;33m.\u001b[0m\u001b[0mtopk\u001b[0m\u001b[1;33m(\u001b[0m\u001b[1;36m1\u001b[0m\u001b[1;33m)\u001b[0m\u001b[1;33m\u001b[0m\u001b[0m\n\u001b[0;32m     12\u001b[0m         \u001b[0mtopi\u001b[0m \u001b[1;33m=\u001b[0m \u001b[0mtopi\u001b[0m\u001b[1;33m[\u001b[0m\u001b[1;36m0\u001b[0m\u001b[1;33m]\u001b[0m\u001b[1;33m[\u001b[0m\u001b[1;36m0\u001b[0m\u001b[1;33m]\u001b[0m\u001b[1;33m[\u001b[0m\u001b[1;36m0\u001b[0m\u001b[1;33m]\u001b[0m\u001b[1;33m.\u001b[0m\u001b[0mitem\u001b[0m\u001b[1;33m(\u001b[0m\u001b[1;33m)\u001b[0m\u001b[1;33m\u001b[0m\u001b[0m\n\u001b[1;32m---> 13\u001b[1;33m         \u001b[0mletter\u001b[0m \u001b[1;33m=\u001b[0m \u001b[0mix_to_char\u001b[0m\u001b[1;33m[\u001b[0m\u001b[0mtopi\u001b[0m\u001b[1;33m]\u001b[0m\u001b[1;33m\u001b[0m\u001b[0m\n\u001b[0m\u001b[0;32m     14\u001b[0m         \u001b[0moutput_tweet\u001b[0m \u001b[1;33m+=\u001b[0m \u001b[0mletter\u001b[0m\u001b[1;33m\u001b[0m\u001b[0m\n\u001b[0;32m     15\u001b[0m         \u001b[0mchar\u001b[0m \u001b[1;33m=\u001b[0m \u001b[0mtorch\u001b[0m\u001b[1;33m.\u001b[0m\u001b[0mtensor\u001b[0m\u001b[1;33m(\u001b[0m\u001b[0mchar_to_ix\u001b[0m\u001b[1;33m[\u001b[0m\u001b[0mletter\u001b[0m\u001b[1;33m]\u001b[0m\u001b[1;33m,\u001b[0m \u001b[0mdtype\u001b[0m \u001b[1;33m=\u001b[0m \u001b[0mtorch\u001b[0m\u001b[1;33m.\u001b[0m\u001b[0mlong\u001b[0m\u001b[1;33m)\u001b[0m\u001b[1;33m\u001b[0m\u001b[0m\n",
      "\u001b[1;31mKeyError\u001b[0m: 89"
     ]
    }
   ],
   "source": [
    "generate_tweet('a')"
   ]
  }
 ],
 "metadata": {
  "kernelspec": {
   "display_name": "Python 3",
   "language": "python",
   "name": "python3"
  },
  "language_info": {
   "codemirror_mode": {
    "name": "ipython",
    "version": 3
   },
   "file_extension": ".py",
   "mimetype": "text/x-python",
   "name": "python",
   "nbconvert_exporter": "python",
   "pygments_lexer": "ipython3",
   "version": "3.6.6"
  }
 },
 "nbformat": 4,
 "nbformat_minor": 2
}
