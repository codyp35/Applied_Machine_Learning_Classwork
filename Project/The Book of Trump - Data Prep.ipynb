{
 "cells": [
  {
   "cell_type": "code",
   "execution_count": 108,
   "metadata": {},
   "outputs": [
    {
     "data": {
      "text/plain": [
       "<torch._C.Generator at 0x23853c80930>"
      ]
     },
     "execution_count": 108,
     "metadata": {},
     "output_type": "execute_result"
    }
   ],
   "source": [
    "import numpy as np\n",
    "import pandas as pd\n",
    "import torch.nn as nn\n",
    "import torch.nn.functional as F\n",
    "import torch.optim as optim\n",
    "\n",
    "torch.manual_seed(1)"
   ]
  },
  {
   "cell_type": "code",
   "execution_count": 109,
   "metadata": {},
   "outputs": [],
   "source": [
    "with open(r'C:\\Users\\nelso\\OneDrive\\Machine_Learning\\Project\\tweets.txt', encoding = 'utf8') as f:\n",
    "    tweets = f.readlines()\n",
    "\n",
    "del tweets[0]"
   ]
  },
  {
   "cell_type": "code",
   "execution_count": 110,
   "metadata": {},
   "outputs": [],
   "source": [
    "with open(r'C:\\Users\\nelso\\OneDrive\\Machine_Learning\\Project\\tweets.txt', encoding = 'utf8') as f:\n",
    "    content=list(set(f.read()))"
   ]
  },
  {
   "cell_type": "code",
   "execution_count": 183,
   "metadata": {},
   "outputs": [],
   "source": [
    "vocab_size = len(content)\n",
    "ix_to_char = {ix:char for ix, char in enumerate(content)}\n",
    "char_to_ix = {char:ix for ix, char in enumerate(content)}"
   ]
  },
  {
   "cell_type": "markdown",
   "metadata": {},
   "source": [
    "A few notes on building the neural network\n",
    "- Sequence length should vary for each tweet. Should be length of tweet.\n",
    "- Need to create an \\<EOS> marker\n",
    "- Embedding happens when putting input tweet into x tensor\n",
    "- From embedding, x should be passed through LSTM\n",
    "- Then need a hidden layer which should maybe spit out something the size of vocab?\n",
    "- Use a softmax to get the probability\n",
    "- NLLL to get the loss\n",
    "- Backprop\n",
    "- Run this through 2 for loops: for epoch and for tweet"
   ]
  },
  {
   "cell_type": "code",
   "execution_count": 187,
   "metadata": {},
   "outputs": [
    {
     "name": "stdout",
     "output_type": "stream",
     "text": [
      "[1423.0976333618164, 1422.9377226829529, 1423.2802324295044, 1423.0320992469788, 1423.0829830169678]\n"
     ]
    }
   ],
   "source": [
    "epochs = 5\n",
    "hidden_dim = 128\n",
    "embed_size = 128 # This is going to probably get up to 128 or 256\n",
    "\n",
    "losses = []\n",
    "loss_function = nn.NLLLoss()\n",
    "model = nn.LSTM(embed_size, hidden_dim, num_layers = 3)\n",
    "optimizer = optim.SGD(model.parameters(), lr=0.1)\n",
    "\n",
    "\n",
    "for epoch in range(epochs):\n",
    "    total_loss = 0\n",
    "    for tweet in tweets:\n",
    "        #Create the index for our tweet and our target\n",
    "        tweet_x = tweet[:-1]\n",
    "        context_size = len(tweet_x)\n",
    "        tweet_id = torch.tensor([char_to_ix[c] for c in tweet_x], dtype=torch.long)\n",
    "        target_tweet = tweet[1:]\n",
    "        target_ix = torch.tensor([char_to_ix[c] for c in target_tweet], dtype=torch.long) \n",
    "        \n",
    "        #Reset gradient for each iteration\n",
    "        model.zero_grad()\n",
    "        \n",
    "        #Reset hidden layer\n",
    "        hidden = (torch.zeros(3, 1, hidden_dim), torch.zeros(3, 1, hidden_dim))\n",
    "        \n",
    "        #Embed characters and forward pass through Relu and Softmax\n",
    "        embed = nn.Embedding(vocab_size, embed_size)\n",
    "        embed = embed(tweet_id)\n",
    "        output, hidden = model(embed.view(len(tweet_id), 1, -1), hidden)\n",
    "        lin_2 = nn.Linear(hidden_dim, vocab_size)\n",
    "        out = F.relu(lin_2(output.view(context_size, -1)))\n",
    "        log_probs = F.log_softmax(out, dim=1)\n",
    "        \n",
    "        #Compute the loss function\n",
    "        loss = loss_function(log_probs, target_ix)\n",
    "        \n",
    "        #Backprop and Update Gradient\n",
    "        loss.backward()\n",
    "        optimizer.step()\n",
    "        \n",
    "        total_loss += loss.item()\n",
    "    losses.append(total_loss)\n",
    "print (losses)\n",
    "        \n",
    "        \n",
    "        \n",
    "        \n",
    "        "
   ]
  },
  {
   "cell_type": "code",
   "execution_count": null,
   "metadata": {},
   "outputs": [],
   "source": []
  }
 ],
 "metadata": {
  "kernelspec": {
   "display_name": "Python 3",
   "language": "python",
   "name": "python3"
  },
  "language_info": {
   "codemirror_mode": {
    "name": "ipython",
    "version": 3
   },
   "file_extension": ".py",
   "mimetype": "text/x-python",
   "name": "python",
   "nbconvert_exporter": "python",
   "pygments_lexer": "ipython3",
   "version": "3.6.6"
  }
 },
 "nbformat": 4,
 "nbformat_minor": 2
}
