{
 "cells": [
  {
   "cell_type": "code",
   "execution_count": 484,
   "metadata": {},
   "outputs": [
    {
     "data": {
      "text/plain": [
       "<torch._C.Generator at 0x27e512c8510>"
      ]
     },
     "execution_count": 484,
     "metadata": {},
     "output_type": "execute_result"
    }
   ],
   "source": [
    "import numpy as np\n",
    "import pandas as pd\n",
    "import math\n",
    "import torch.nn as nn\n",
    "import torch.nn.functional as F\n",
    "import torch.optim as optim\n",
    "import torch\n",
    "import time\n",
    "\n",
    "torch.manual_seed(1)"
   ]
  },
  {
   "cell_type": "code",
   "execution_count": 485,
   "metadata": {},
   "outputs": [],
   "source": [
    "with open(r'tweets.txt', encoding = 'utf8') as f:\n",
    "    tweets = f.readlines()"
   ]
  },
  {
   "cell_type": "code",
   "execution_count": 486,
   "metadata": {},
   "outputs": [],
   "source": [
    "with open(r'tweets.txt', encoding = 'utf8') as f:\n",
    "    content=list(set(f.read()))"
   ]
  },
  {
   "cell_type": "code",
   "execution_count": 487,
   "metadata": {},
   "outputs": [],
   "source": [
    "ix_to_char = {ix:char for ix, char in enumerate(content)}\n",
    "char_to_ix = {char:ix for ix, char in enumerate(content)}\n",
    "vocab_size = len(char_to_ix)"
   ]
  },
  {
   "cell_type": "code",
   "execution_count": 488,
   "metadata": {},
   "outputs": [],
   "source": [
    "#tweets = tweets[:10000]"
   ]
  },
  {
   "cell_type": "code",
   "execution_count": 489,
   "metadata": {},
   "outputs": [],
   "source": [
    "def prepare_tweet(tweet, target = False):\n",
    "    if target==True:\n",
    "        tweet_ix = torch.tensor([char_to_ix[c] for c in tweet[1:]], dtype=torch.long)\n",
    "        tweet_ix = tweet_ix.view(-1)\n",
    "    else:\n",
    "        tweet_ix = torch.tensor([char_to_ix[c] for c in tweet[:-1]], dtype=torch.long)\n",
    "        tweet_ix = tweet_ix.view(-1)\n",
    "    return tweet_ix"
   ]
  },
  {
   "cell_type": "code",
   "execution_count": 490,
   "metadata": {},
   "outputs": [],
   "source": [
    "class RNN(nn.Module):\n",
    "    def __init__(self, embed_dim, hidden_dim, vocab_size, n_layers=1):\n",
    "        super(RNN, self).__init__()\n",
    "        self.hidden_dim = hidden_dim\n",
    "        self.n_layers = n_layers\n",
    "        self.embed = nn.Embedding(vocab_size, embed_dim)\n",
    "        \n",
    "        self.lstm = nn.LSTM(embed_dim, hidden_dim, num_layers = n_layers)\n",
    "        \n",
    "        self.hidden2char = nn.Linear(hidden_dim, vocab_size)\n",
    "        self.dropout = nn.Dropout(0.2)\n",
    "        self.hidden = self.init_hidden()\n",
    "        \n",
    "    def init_hidden(self):\n",
    "        return(torch.zeros(self.n_layers, 1, self.hidden_dim),\n",
    "              torch.zeros(self.n_layers, 1, self.hidden_dim))\n",
    "    \n",
    "    def forward(self, tweet):\n",
    "        embeds = self.embed(tweet)\n",
    "        lstm_out, self.hidden = self.lstm(embeds.view(len(tweet), 1, -1),\n",
    "                                         self.hidden)\n",
    "        output = F.relu(self.hidden2char(lstm_out.view(len(tweet), -1)))\n",
    "        output = self.dropout(output)\n",
    "        log_probs = F.log_softmax(output, dim=1)\n",
    "        return log_probs\n",
    "        "
   ]
  },
  {
   "cell_type": "code",
   "execution_count": 491,
   "metadata": {},
   "outputs": [],
   "source": [
    "def train(tweets, model, loss_function, optimizer, epochs):\n",
    "    start = time.time()\n",
    "    i=1\n",
    "    for epoch in range(epochs):\n",
    "        epoch_start = time.time()\n",
    "        total_loss = 0\n",
    "        for tweet in tweets:\n",
    "            model.zero_grad()\n",
    "        \n",
    "            model.hidden = model.init_hidden()\n",
    "        \n",
    "            tweet_x = prepare_tweet(tweet)\n",
    "            tweet_y = prepare_tweet(tweet, target=True)\n",
    "        \n",
    "            log_probs = model(tweet_x)\n",
    "        \n",
    "            loss = loss_function(log_probs, tweet_y)\n",
    "            loss.backward()\n",
    "            optimizer.step()\n",
    "        \n",
    "            total_loss += loss.item()\n",
    "            #print(\"line {} done\".format(i))\n",
    "            #i+=1\n",
    "        print('Epoch', epoch+1, 'Completed in %.0f' %(time.time()-epoch_start),'seconds - Loss: %.2f' %total_loss)\n",
    "    total_time = time.time() - start\n",
    "    hours = math.floor(total_time/3600)\n",
    "    minutes = total_time-(hours*3600)\n",
    "    minutes = math.floor(minutes/60)\n",
    "    seconds = total_time - (hours*3600 + minutes*60)\n",
    "    seconds = math.floor(seconds)\n",
    "\n",
    "    print('Total Training Time: {0} Hours {1} Minutes {2} Seconds'.format(hours, minutes, seconds))"
   ]
  },
  {
   "cell_type": "code",
   "execution_count": 492,
   "metadata": {},
   "outputs": [],
   "source": [
    "def generate_tweet(inputs):\n",
    "    model.eval()\n",
    "    with torch.no_grad():\n",
    "        char = torch.tensor([char_to_ix[c] for c in inputs], dtype = torch.long)\n",
    "        hidden = model.init_hidden()\n",
    "        output_tweet = inputs\n",
    "        letter = inputs\n",
    "    \n",
    "        for i in range(280):\n",
    "            char = char.view(-1)\n",
    "            output = model(char)\n",
    "            topv, topi = output.topk(1)\n",
    "            topi = topi[0][0].item()\n",
    "            letter = ix_to_char[topi]\n",
    "            if letter == '\\n':\n",
    "                break\n",
    "            else:    \n",
    "                output_tweet += letter\n",
    "                char = torch.tensor(char_to_ix[letter], dtype = torch.long)\n",
    "        \n",
    "    return output_tweet"
   ]
  },
  {
   "cell_type": "code",
   "execution_count": 493,
   "metadata": {},
   "outputs": [],
   "source": [
    "hidden_dim = 128\n",
    "embed_size = 128\n",
    "epochs = 50\n",
    "\n",
    "model = RNN(embed_size, hidden_dim, vocab_size, n_layers = 3)\n",
    "loss_function = nn.NLLLoss()\n",
    "optimizer = optim.SGD(model.parameters(), lr=.1)"
   ]
  },
  {
   "cell_type": "code",
   "execution_count": null,
   "metadata": {},
   "outputs": [
    {
     "name": "stdout",
     "output_type": "stream",
     "text": [
      "Epoch 1 Completed in 2504 seconds - Loss: 43044.15\n",
      "Epoch 2 Completed in 2458 seconds - Loss: 30472.17\n"
     ]
    }
   ],
   "source": [
    "train(tweets, model, loss_function, optimizer, epochs)"
   ]
  },
  {
   "cell_type": "code",
   "execution_count": 483,
   "metadata": {},
   "outputs": [
    {
     "data": {
      "text/plain": [
       "'j                                                                                                                                                                                                                                                                                         '"
      ]
     },
     "execution_count": 483,
     "metadata": {},
     "output_type": "execute_result"
    }
   ],
   "source": [
    "generate_tweet('')"
   ]
  },
  {
   "cell_type": "code",
   "execution_count": 467,
   "metadata": {},
   "outputs": [],
   "source": [
    "torch.save(model.state_dict(), 'First_Model')"
   ]
  }
 ],
 "metadata": {
  "kernelspec": {
   "display_name": "Python 3",
   "language": "python",
   "name": "python3"
  },
  "language_info": {
   "codemirror_mode": {
    "name": "ipython",
    "version": 3
   },
   "file_extension": ".py",
   "mimetype": "text/x-python",
   "name": "python",
   "nbconvert_exporter": "python",
   "pygments_lexer": "ipython3",
   "version": "3.6.6"
  }
 },
 "nbformat": 4,
 "nbformat_minor": 2
}
